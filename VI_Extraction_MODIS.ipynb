{
 "cells": [
  {
   "metadata": {},
   "cell_type": "markdown",
   "source": [
    "# MODIS Vegetation Indices Time Series Extraction from Google Earth Engine\n",
    "\n",
    "An all-in-one script to extract time series of the Normalized Difference Vegetation Index (NDVI) and Enhanced Vegetation Index (EVI) from MODIS product on Google Earth Engine."
   ],
   "id": "35f91b17e911f0bd"
  },
  {
   "metadata": {},
   "cell_type": "code",
   "outputs": [],
   "execution_count": null,
   "source": [
    "import time\n",
    "import json\n",
    "import geopandas as gpd\n",
    "import ee"
   ],
   "id": "e579f9fe20d1a102"
  },
  {
   "metadata": {},
   "cell_type": "markdown",
   "source": "## Supportive Tools",
   "id": "c908e6b127aa8c4e"
  },
  {
   "cell_type": "code",
   "execution_count": null,
   "id": "initial_id",
   "metadata": {
    "collapsed": true
   },
   "outputs": [],
   "source": [
    "def modis_scaling(image):\n",
    "    \"\"\"\n",
    "    Apply scales on band values of MODIS image.\n",
    "    :param image: ee.Image\n",
    "    :return: ee.Image\n",
    "    \"\"\"\n",
    "    bands_to_modify = ['NDVI', 'EVI']\n",
    "    scale = ee.Number(0.0001)\n",
    "    \n",
    "    def scale_band(band_name):\n",
    "        band = image.select(band_name)\n",
    "        return band.multiply(scale).rename(band_name)\n",
    "    \n",
    "    # scale values for each band\n",
    "    scaled_bands = [scale_band(band_name) for band_name in bands_to_modify]\n",
    "    scaled_image = ee.ImageCollection(scaled_bands).toBands()\n",
    "    original_names = ee.List(bands_to_modify)\n",
    "    renamed_scaled_image = scaled_image.rename(original_names)\n",
    "    \n",
    "    # combine scaled bands with the original bands\n",
    "    modified_image = image.select(image.bandNames().removeAll(bands_to_modify)).addBands(renamed_scaled_image)\n",
    "    \n",
    "    return modified_image\n",
    "\n",
    "def get_time_series(roi, image_collection, date_start, date_end, target='NDVI'):\n",
    "    \"\"\"\n",
    "    Extract band values of vegetation indices and create time series of mean pixel-based indices over the given feature,\n",
    "    using the longitude and latitude of the feature centroid to mark the location.\n",
    "    :param roi: ee.Feature, the region of interest.\n",
    "    :param image_collection: ee.ImageCollection, the image collection to map over. \n",
    "    :param date_start: string, the start date to search image, in format 'YYYY-MM-dd'. \n",
    "    :param date_end: string, the end date to search image, in format 'YYYY-MM-dd'. \n",
    "    :param target: string, 'NDVI' or 'EVI', default to 'NDVI'. \n",
    "    :return: ee.FeatureCollection, containing centroid location and VI values in each feature.\n",
    "    \"\"\"\n",
    "    # get centroid location of the given feature\n",
    "    centroid = roi.geometry().centroid()\n",
    "    lon = centroid.coordinates().get(0)\n",
    "    lat = centroid.coordinates().get(1)\n",
    "    # filter images by date and location, and apply pre-process on images\n",
    "    ic_to_map = image_collection \\\n",
    "        .filterBounds(roi.geometry()) \\\n",
    "        .filterDate(date_start, date_end) \\\n",
    "        .map(modis_scaling)\n",
    "    \n",
    "    # check how many images within the ic\n",
    "    image_count = ic_to_map.select(target).size()\n",
    "    \n",
    "    def calc_mean_vi(image):\n",
    "        mean_vi = image.reduceRegion(\n",
    "            reducer=ee.Reducer.mean(),\n",
    "            geometry=roi.geometry(),\n",
    "            scale=250,\n",
    "            maxPixels=1e9\n",
    "        )\n",
    "        return ee.Feature(None, {\n",
    "            'system:index': image.get('system:index'),\n",
    "            'lon': lon,\n",
    "            'lat': lat,\n",
    "            'target': mean_vi.get(target)\n",
    "        })\n",
    "    \n",
    "    def get_values_from_image_collection(collection):\n",
    "        vi_features = collection.map(calc_mean_vi)\n",
    "        # filter out null values\n",
    "        vi_filtered = vi_features.filter(ee.Filter.notNull(['target']))\n",
    "        return ee.FeatureCollection(vi_filtered)\n",
    "    \n",
    "    output = ee.Algorithms.If(\n",
    "        condition=image_count.gt(0),\n",
    "        trueCase=get_values_from_image_collection(ic_to_map),\n",
    "        falseCase=ee.FeatureCollection([])\n",
    "    )\n",
    "    \n",
    "    return output"
   ]
  },
  {
   "metadata": {},
   "cell_type": "markdown",
   "source": [
    "## Let's Get Things Done!\n",
    "\n",
    "It's time to start the main process!"
   ],
   "id": "bc9f7664d99fd461"
  },
  {
   "metadata": {},
   "cell_type": "code",
   "outputs": [],
   "execution_count": null,
   "source": [
    "# First, get authenticate from Earth Engine\n",
    "ee.Authenticate()"
   ],
   "id": "8e6d0c51a2f084ad"
  },
  {
   "metadata": {},
   "cell_type": "code",
   "outputs": [],
   "execution_count": null,
   "source": [
    "# Next, link the Earth Engine API\n",
    "ee.Initialize(project='ee-charleshzijian')"
   ],
   "id": "a0a8f49fb401ba28"
  },
  {
   "metadata": {},
   "cell_type": "code",
   "outputs": [],
   "execution_count": null,
   "source": [
    "# Then, mount Google Drive for shapefile\n",
    "from google.colab import drive\n",
    "drive.mount('/content/drive')"
   ],
   "id": "bbe2e3491f1c479b"
  },
  {
   "metadata": {},
   "cell_type": "code",
   "outputs": [],
   "execution_count": null,
   "source": [
    "# Set the parameter for the process\n",
    "path_to_export = 'vi_ts'\n",
    "# Date range for image search\n",
    "start_date = '2000-01-01'\n",
    "end_date = '2023-12-31'"
   ],
   "id": "5dcca381c4f95f0a"
  },
  {
   "metadata": {},
   "cell_type": "code",
   "outputs": [],
   "execution_count": null,
   "source": [
    "# Now read the shapefile\n",
    "path_to_shapefile = r'/content/drive/MyDrive/Mangrove/China/ChinaMangrove2020'\n",
    "shapefile_to_map = gpd.read_file(path_to_shapefile + '/ChinaMangrove2020.shp').to_crs(\"epsg:4326\")\n",
    "source = 'drive'"
   ],
   "id": "f00bb83c2ce4ffa"
  },
  {
   "metadata": {},
   "cell_type": "code",
   "outputs": [],
   "execution_count": null,
   "source": [
    "# Or load shapefile form Earth Engine\n",
    "mangrove_asset_id = 'projects/ee-charleshzijian/assets/China_Mangrove/Non-Protected'\n",
    "full_mangrove = ee.FeatureCollection(mangrove_asset_id)\n",
    "source = 'ee'"
   ],
   "id": "11a43326743003dc"
  },
  {
   "metadata": {},
   "cell_type": "code",
   "outputs": [],
   "execution_count": null,
   "source": [
    "# Now load the MODIS image collection\n",
    "ic = ee.ImageCollection(\"MODIS/061/MOD13Q1\")"
   ],
   "id": "55b4a7938a34b9e3"
  },
  {
   "metadata": {},
   "cell_type": "code",
   "outputs": [],
   "execution_count": null,
   "source": [
    "# Split and retrieve vegetation indices on every 400 features each time\n",
    "shp_idx = 0\n",
    "total_features = len(shapefile_to_map)\n",
    "step_length = 400\n",
    "for i in range(shp_idx*step_length, total_features, step_length):\n",
    "    shp_idx += 1\n",
    "    # 1st -- get features ready\n",
    "    # -- slice the geo-dataframe\n",
    "    if source == 'drive':\n",
    "        gdf = full_mangrove.iloc[i:i+step_length]\n",
    "    else:\n",
    "        gdf = full_mangrove.toList(step_length, i)\n",
    "        \n",
    "    # # -- export the sliced geo-dataframe into a new shapefile\n",
    "    # export_slice = f\"ChinaMangrove_part{shp_idx}.shp\"\n",
    "    # gdf.to_file(f\"{path_to_export}/{export_slice}\",\n",
    "    #             driver='ESRI Shapefile')\n",
    "    \n",
    "    # 2nd -- get indices\n",
    "    for vi in ['NDVI', 'EVI']:\n",
    "        print(f\">> Now on #{shp_idx} {vi}...\")\n",
    "        # convert the geo-dataframe to a list of dictionaries\n",
    "        if source == 'drive':\n",
    "            gdf_json = json.loads(gdf.to_json())[\"features\"]\n",
    "            ee_features = [ee.Feature(ee.Geometry.MultiPolygon(feature['geometry']['coordinates']), feature['properties']) for feature in gdf_json]\n",
    "            # features = json.loads(gdf.to_json())[\"features\"]\n",
    "            # create a list of Earth Engine features\n",
    "            # ee_features = []\n",
    "            # for feature in features:\n",
    "            #     # extract geometry and properties\n",
    "            #     geometry = ee.Geometry.MultiLineString(feature['geometry']['coordinates'])\n",
    "            #     properties = feature['properties']\n",
    "            #     # create an Earth Engine feature\n",
    "            #     ee_feature = ee.Feature(geometry, properties)\n",
    "            #     # append to list\n",
    "            #     ee_features.append(ee_feature)\n",
    "        else:\n",
    "            gdf_json = gdf.getInfo()\n",
    "            ee_features = [ee.Feature(ee.Geometry(feature['geometry']), feature['properties']) for feature in gdf_json['features']]\n",
    "            \n",
    "        # convert the list to a feature collection\n",
    "        features = ee.FeatureCollection(ee_features)\n",
    "        \n",
    "        # get mean vegetation index for each feature\n",
    "        result = features.map(lambda f: get_time_series(\n",
    "            roi=f, \n",
    "            image_collection=ic, \n",
    "            date_start=start_date, \n",
    "            date_end=end_date, \n",
    "            target=vi\n",
    "        )).flatten()\n",
    "        \n",
    "        # export the result to a csv file\n",
    "        csv_name = f'Mean_{vi}_{shp_idx}'\n",
    "        task = ee.batch.Export.table.toDrive(\n",
    "            collection=result,\n",
    "            description=f'MODIS_VI_{shp_idx}',\n",
    "            folder=path_to_export,\n",
    "            fileNamePrefix=csv_name,\n",
    "            fileFormat='CSV'\n",
    "        )\n",
    "        task.start()\n",
    "        \n",
    "        print(f\"-- Task submitted at {time.strftime('%Y-%m-%d %H:%M:%S', time.localtime())}.\")\n",
    "        \n",
    "        # check if the task is still active every 30 seconds\n",
    "        while task.active():\n",
    "            time.sleep(30)\n",
    "            print(f\".. Task is running ({time.strftime('%Y-%m-%d %H:%M:%S', time.localtime())}).\")\n",
    "            \n",
    "        print(f\">> Task #{shp_idx} finished on {vi} calculation.\")\n",
    "        \n",
    "print(\">> ALL FEATURES PROCESSED.\")"
   ],
   "id": "4933f227d53d5f9"
  },
  {
   "metadata": {},
   "cell_type": "markdown",
   "source": "",
   "id": "72e79446b5f852d4"
  }
 ],
 "metadata": {
  "kernelspec": {
   "display_name": "Python 3",
   "language": "python",
   "name": "python3"
  },
  "language_info": {
   "codemirror_mode": {
    "name": "ipython",
    "version": 2
   },
   "file_extension": ".py",
   "mimetype": "text/x-python",
   "name": "python",
   "nbconvert_exporter": "python",
   "pygments_lexer": "ipython2",
   "version": "2.7.6"
  }
 },
 "nbformat": 4,
 "nbformat_minor": 5
}
